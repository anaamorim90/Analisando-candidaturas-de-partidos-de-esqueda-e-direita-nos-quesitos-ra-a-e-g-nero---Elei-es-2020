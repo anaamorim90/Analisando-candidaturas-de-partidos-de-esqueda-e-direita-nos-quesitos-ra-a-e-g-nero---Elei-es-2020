{
 "cells": [
  {
   "cell_type": "code",
   "execution_count": 23,
   "metadata": {},
   "outputs": [],
   "source": [
    "import pandas as pd\n",
    "low_memory=False\n",
    "%matplotlib inline\n",
    "pd.options.display.max_columns = 80\n",
    "pd.options.display.max_rows = 90"
   ]
  },
  {
   "cell_type": "code",
   "execution_count": 24,
   "metadata": {},
   "outputs": [],
   "source": [
    "filename = r'C:\\Users\\Ana\\consulta_cand_2020_BRASIL.csv'\n",
    "df = pd.read_csv(filename, delimiter=';', \n",
    "                 encoding='ISO-8859-1',\n",
    "                 error_bad_lines=False)"
   ]
  },
  {
   "cell_type": "code",
   "execution_count": 25,
   "metadata": {},
   "outputs": [
    {
     "name": "stdout",
     "output_type": "stream",
     "text": [
      "20 NR_CPF_CANDIDATO\n",
      "28 SG_PARTIDO\n",
      "42 DS_GENERO\n",
      "48 DS_COR_RACA\n"
     ]
    }
   ],
   "source": [
    "for k in (20, 28, 42, 48): print (k, df.columns[k])"
   ]
  },
  {
   "cell_type": "code",
   "execution_count": 26,
   "metadata": {},
   "outputs": [
    {
     "data": {
      "text/plain": [
       "(550528, 63)"
      ]
     },
     "execution_count": 26,
     "metadata": {},
     "output_type": "execute_result"
    }
   ],
   "source": [
    "df.shape"
   ]
  },
  {
   "cell_type": "code",
   "execution_count": 27,
   "metadata": {},
   "outputs": [
    {
     "name": "stdout",
     "output_type": "stream",
     "text": [
      "<class 'pandas.core.frame.DataFrame'>\n",
      "RangeIndex: 550528 entries, 0 to 550527\n",
      "Data columns (total 63 columns):\n",
      " #   Column                         Non-Null Count   Dtype \n",
      "---  ------                         --------------   ----- \n",
      " 0   DT_GERACAO                     550528 non-null  object\n",
      " 1   HH_GERACAO                     550528 non-null  object\n",
      " 2   ANO_ELEICAO                    550528 non-null  int64 \n",
      " 3   CD_TIPO_ELEICAO                550528 non-null  int64 \n",
      " 4   NM_TIPO_ELEICAO                550528 non-null  object\n",
      " 5   NR_TURNO                       550528 non-null  int64 \n",
      " 6   CD_ELEICAO                     550528 non-null  int64 \n",
      " 7   DS_ELEICAO                     550528 non-null  object\n",
      " 8   DT_ELEICAO                     550528 non-null  object\n",
      " 9   TP_ABRANGENCIA                 550528 non-null  object\n",
      " 10  SG_UF                          550528 non-null  object\n",
      " 11  SG_UE                          550528 non-null  int64 \n",
      " 12  NM_UE                          550528 non-null  object\n",
      " 13  CD_CARGO                       550528 non-null  int64 \n",
      " 14  DS_CARGO                       550528 non-null  object\n",
      " 15  SQ_CANDIDATO                   550528 non-null  int64 \n",
      " 16  NR_CANDIDATO                   550528 non-null  int64 \n",
      " 17  NM_CANDIDATO                   550528 non-null  object\n",
      " 18  NM_URNA_CANDIDATO              550525 non-null  object\n",
      " 19  NM_SOCIAL_CANDIDATO            550528 non-null  object\n",
      " 20  NR_CPF_CANDIDATO               550528 non-null  int64 \n",
      " 21  NM_EMAIL                       550528 non-null  object\n",
      " 22  CD_SITUACAO_CANDIDATURA        550528 non-null  int64 \n",
      " 23  DS_SITUACAO_CANDIDATURA        550528 non-null  object\n",
      " 24  CD_DETALHE_SITUACAO_CAND       550528 non-null  int64 \n",
      " 25  DS_DETALHE_SITUACAO_CAND       550528 non-null  object\n",
      " 26  TP_AGREMIACAO                  550528 non-null  object\n",
      " 27  NR_PARTIDO                     550528 non-null  int64 \n",
      " 28  SG_PARTIDO                     550528 non-null  object\n",
      " 29  NM_PARTIDO                     550528 non-null  object\n",
      " 30  SQ_COLIGACAO                   550528 non-null  int64 \n",
      " 31  NM_COLIGACAO                   550528 non-null  object\n",
      " 32  DS_COMPOSICAO_COLIGACAO        550528 non-null  object\n",
      " 33  CD_NACIONALIDADE               550528 non-null  int64 \n",
      " 34  DS_NACIONALIDADE               550528 non-null  object\n",
      " 35  SG_UF_NASCIMENTO               550528 non-null  object\n",
      " 36  CD_MUNICIPIO_NASCIMENTO        550528 non-null  int64 \n",
      " 37  NM_MUNICIPIO_NASCIMENTO        550528 non-null  object\n",
      " 38  DT_NASCIMENTO                  550528 non-null  object\n",
      " 39  NR_IDADE_DATA_POSSE            550528 non-null  int64 \n",
      " 40  NR_TITULO_ELEITORAL_CANDIDATO  550528 non-null  int64 \n",
      " 41  CD_GENERO                      550528 non-null  int64 \n",
      " 42  DS_GENERO                      550528 non-null  object\n",
      " 43  CD_GRAU_INSTRUCAO              550528 non-null  int64 \n",
      " 44  DS_GRAU_INSTRUCAO              550528 non-null  object\n",
      " 45  CD_ESTADO_CIVIL                550528 non-null  int64 \n",
      " 46  DS_ESTADO_CIVIL                550528 non-null  object\n",
      " 47  CD_COR_RACA                    550528 non-null  int64 \n",
      " 48  DS_COR_RACA                    550528 non-null  object\n",
      " 49  CD_OCUPACAO                    550528 non-null  int64 \n",
      " 50  DS_OCUPACAO                    550528 non-null  object\n",
      " 51  VR_DESPESA_MAX_CAMPANHA        550528 non-null  int64 \n",
      " 52  CD_SIT_TOT_TURNO               550528 non-null  int64 \n",
      " 53  DS_SIT_TOT_TURNO               550528 non-null  object\n",
      " 54  ST_REELEICAO                   550528 non-null  object\n",
      " 55  ST_DECLARAR_BENS               550528 non-null  object\n",
      " 56  NR_PROTOCOLO_CANDIDATURA       550528 non-null  int64 \n",
      " 57  NR_PROCESSO                    550528 non-null  int64 \n",
      " 58  CD_SITUACAO_CANDIDATO_PLEITO   550528 non-null  int64 \n",
      " 59  DS_SITUACAO_CANDIDATO_PLEITO   550528 non-null  object\n",
      " 60  CD_SITUACAO_CANDIDATO_URNA     550528 non-null  int64 \n",
      " 61  DS_SITUACAO_CANDIDATO_URNA     550528 non-null  object\n",
      " 62  ST_CANDIDATO_INSERIDO_URNA     550528 non-null  object\n",
      "dtypes: int64(28), object(35)\n",
      "memory usage: 264.6+ MB\n"
     ]
    }
   ],
   "source": [
    "df.info()"
   ]
  },
  {
   "cell_type": "code",
   "execution_count": 28,
   "metadata": {},
   "outputs": [
    {
     "name": "stdout",
     "output_type": "stream",
     "text": [
      "(0, 'DT_GERACAO')\n",
      "(1, 'HH_GERACAO')\n",
      "(2, 'ANO_ELEICAO')\n",
      "(3, 'CD_TIPO_ELEICAO')\n",
      "(4, 'NM_TIPO_ELEICAO')\n",
      "(5, 'NR_TURNO')\n",
      "(6, 'CD_ELEICAO')\n",
      "(7, 'DS_ELEICAO')\n",
      "(8, 'DT_ELEICAO')\n",
      "(9, 'TP_ABRANGENCIA')\n",
      "(10, 'SG_UF')\n",
      "(11, 'SG_UE')\n",
      "(12, 'NM_UE')\n",
      "(13, 'CD_CARGO')\n",
      "(14, 'DS_CARGO')\n",
      "(15, 'SQ_CANDIDATO')\n",
      "(16, 'NR_CANDIDATO')\n",
      "(17, 'NM_CANDIDATO')\n",
      "(18, 'NM_URNA_CANDIDATO')\n",
      "(19, 'NM_SOCIAL_CANDIDATO')\n",
      "(20, 'NR_CPF_CANDIDATO')\n",
      "(21, 'NM_EMAIL')\n",
      "(22, 'CD_SITUACAO_CANDIDATURA')\n",
      "(23, 'DS_SITUACAO_CANDIDATURA')\n",
      "(24, 'CD_DETALHE_SITUACAO_CAND')\n",
      "(25, 'DS_DETALHE_SITUACAO_CAND')\n",
      "(26, 'TP_AGREMIACAO')\n",
      "(27, 'NR_PARTIDO')\n",
      "(28, 'SG_PARTIDO')\n",
      "(29, 'NM_PARTIDO')\n",
      "(30, 'SQ_COLIGACAO')\n",
      "(31, 'NM_COLIGACAO')\n",
      "(32, 'DS_COMPOSICAO_COLIGACAO')\n",
      "(33, 'CD_NACIONALIDADE')\n",
      "(34, 'DS_NACIONALIDADE')\n",
      "(35, 'SG_UF_NASCIMENTO')\n",
      "(36, 'CD_MUNICIPIO_NASCIMENTO')\n",
      "(37, 'NM_MUNICIPIO_NASCIMENTO')\n",
      "(38, 'DT_NASCIMENTO')\n",
      "(39, 'NR_IDADE_DATA_POSSE')\n",
      "(40, 'NR_TITULO_ELEITORAL_CANDIDATO')\n",
      "(41, 'CD_GENERO')\n",
      "(42, 'DS_GENERO')\n",
      "(43, 'CD_GRAU_INSTRUCAO')\n",
      "(44, 'DS_GRAU_INSTRUCAO')\n",
      "(45, 'CD_ESTADO_CIVIL')\n",
      "(46, 'DS_ESTADO_CIVIL')\n",
      "(47, 'CD_COR_RACA')\n",
      "(48, 'DS_COR_RACA')\n",
      "(49, 'CD_OCUPACAO')\n",
      "(50, 'DS_OCUPACAO')\n",
      "(51, 'VR_DESPESA_MAX_CAMPANHA')\n",
      "(52, 'CD_SIT_TOT_TURNO')\n",
      "(53, 'DS_SIT_TOT_TURNO')\n",
      "(54, 'ST_REELEICAO')\n",
      "(55, 'ST_DECLARAR_BENS')\n",
      "(56, 'NR_PROTOCOLO_CANDIDATURA')\n",
      "(57, 'NR_PROCESSO')\n",
      "(58, 'CD_SITUACAO_CANDIDATO_PLEITO')\n",
      "(59, 'DS_SITUACAO_CANDIDATO_PLEITO')\n",
      "(60, 'CD_SITUACAO_CANDIDATO_URNA')\n",
      "(61, 'DS_SITUACAO_CANDIDATO_URNA')\n",
      "(62, 'ST_CANDIDATO_INSERIDO_URNA')\n"
     ]
    }
   ],
   "source": [
    "for par in enumerate(df.columns): print (par)"
   ]
  },
  {
   "cell_type": "code",
   "execution_count": 29,
   "metadata": {},
   "outputs": [
    {
     "data": {
      "text/plain": [
       "<AxesSubplot:ylabel='DS_COR_RACA'>"
      ]
     },
     "execution_count": 29,
     "metadata": {},
     "output_type": "execute_result"
    },
    {
     "data": {
      "image/png": "[encoded data removed]",
      "text/plain": [
       "<Figure size 432x288 with 1 Axes>"
      ]
     },
     "metadata": {
      "needs_background": "light"
     },
     "output_type": "display_data"
    }
   ],
   "source": [
    "df.groupby('DS_COR_RACA').size().sort_values().plot(kind='barh')"
   ]
  },
  {
   "cell_type": "code",
   "execution_count": 30,
   "metadata": {},
   "outputs": [
    {
     "data": {
      "text/plain": [
       "DS_COR_RACA\n",
       "AMARELA             1947\n",
       "INDÍGENA            2174\n",
       "SEM INFORMAÇÃO      8105\n",
       "PRETA              57665\n",
       "PARDA             217212\n",
       "BRANCA            263425\n",
       "dtype: int64"
      ]
     },
     "execution_count": 30,
     "metadata": {},
     "output_type": "execute_result"
    }
   ],
   "source": [
    "df.groupby('DS_COR_RACA').size().sort_values()"
   ]
  },
  {
   "cell_type": "code",
   "execution_count": 31,
   "metadata": {},
   "outputs": [
    {
     "data": {
      "text/plain": [
       "<AxesSubplot:ylabel='DS_COR_RACA'>"
      ]
     },
     "execution_count": 31,
     "metadata": {},
     "output_type": "execute_result"
    },
    {
     "data": {
      "image/png": "[encoded data removed]",
      "text/plain": [
       "<Figure size 432x288 with 1 Axes>"
      ]
     },
     "metadata": {
      "needs_background": "light"
     },
     "output_type": "display_data"
    }
   ],
   "source": [
    "df.query('SG_PARTIDO == \"PSL\"').groupby('DS_COR_RACA').size().plot(kind='barh')"
   ]
  },
  {
   "cell_type": "code",
   "execution_count": 32,
   "metadata": {
    "scrolled": true
   },
   "outputs": [
    {
     "data": {
      "text/plain": [
       "DS_COR_RACA\n",
       "INDÍGENA             48\n",
       "AMARELA              77\n",
       "SEM INFORMAÇÃO      216\n",
       "PRETA              2061\n",
       "PARDA              7805\n",
       "BRANCA            11746\n",
       "dtype: int64"
      ]
     },
     "execution_count": 32,
     "metadata": {},
     "output_type": "execute_result"
    }
   ],
   "source": [
    "df.query('SG_PARTIDO == \"PSL\"').groupby('DS_COR_RACA').size().sort_values()"
   ]
  },
  {
   "cell_type": "code",
   "execution_count": 33,
   "metadata": {
    "scrolled": true
   },
   "outputs": [
    {
     "data": {
      "text/plain": [
       "<AxesSubplot:ylabel='DS_COR_RACA'>"
      ]
     },
     "execution_count": 33,
     "metadata": {},
     "output_type": "execute_result"
    },
    {
     "data": {
      "image/png": "[encoded data removed]",
      "text/plain": [
       "<Figure size 432x288 with 1 Axes>"
      ]
     },
     "metadata": {
      "needs_background": "light"
     },
     "output_type": "display_data"
    }
   ],
   "source": [
    "df.query('SG_PARTIDO == \"PT\"').groupby('DS_COR_RACA').size().plot(kind='barh')"
   ]
  },
  {
   "cell_type": "code",
   "execution_count": 34,
   "metadata": {},
   "outputs": [
    {
     "data": {
      "text/plain": [
       "DS_COR_RACA\n",
       "AMARELA             134\n",
       "INDÍGENA            262\n",
       "SEM INFORMAÇÃO      439\n",
       "PRETA              5435\n",
       "PARDA             12148\n",
       "BRANCA            12940\n",
       "dtype: int64"
      ]
     },
     "execution_count": 34,
     "metadata": {},
     "output_type": "execute_result"
    }
   ],
   "source": [
    "df.query('SG_PARTIDO == \"PT\"').groupby('DS_COR_RACA').size().sort_values()"
   ]
  },
  {
   "cell_type": "code",
   "execution_count": 35,
   "metadata": {},
   "outputs": [
    {
     "data": {
      "text/plain": [
       "<AxesSubplot:ylabel='DS_GENERO'>"
      ]
     },
     "execution_count": 35,
     "metadata": {},
     "output_type": "execute_result"
    },
    {
     "data": {
      "image/png": "[encoded data removed]",
      "text/plain": [
       "<Figure size 432x288 with 1 Axes>"
      ]
     },
     "metadata": {
      "needs_background": "light"
     },
     "output_type": "display_data"
    }
   ],
   "source": [
    "df.query('SG_PARTIDO == \"PSL\"').groupby('DS_GENERO').size().plot(kind='barh')"
   ]
  },
  {
   "cell_type": "code",
   "execution_count": 36,
   "metadata": {},
   "outputs": [
    {
     "data": {
      "text/plain": [
       "DS_GENERO\n",
       "FEMININO      7137\n",
       "MASCULINO    14816\n",
       "dtype: int64"
      ]
     },
     "execution_count": 36,
     "metadata": {},
     "output_type": "execute_result"
    }
   ],
   "source": [
    "df.query('SG_PARTIDO == \"PSL\"').groupby('DS_GENERO').size().sort_values()"
   ]
  },
  {
   "cell_type": "code",
   "execution_count": 37,
   "metadata": {},
   "outputs": [
    {
     "data": {
      "text/plain": [
       "<AxesSubplot:ylabel='DS_GENERO'>"
      ]
     },
     "execution_count": 37,
     "metadata": {},
     "output_type": "execute_result"
    },
    {
     "data": {
      "image/png": "[encoded data removed]",
      "text/plain": [
       "<Figure size 432x288 with 1 Axes>"
      ]
     },
     "metadata": {
      "needs_background": "light"
     },
     "output_type": "display_data"
    }
   ],
   "source": [
    "df.query('SG_PARTIDO == \"PT\"').groupby('DS_GENERO').size().plot(kind='barh')"
   ]
  },
  {
   "cell_type": "code",
   "execution_count": 38,
   "metadata": {},
   "outputs": [
    {
     "data": {
      "text/plain": [
       "DS_GENERO\n",
       "FEMININO     10874\n",
       "MASCULINO    20484\n",
       "dtype: int64"
      ]
     },
     "execution_count": 38,
     "metadata": {},
     "output_type": "execute_result"
    }
   ],
   "source": [
    "df.query('SG_PARTIDO == \"PT\"').groupby('DS_GENERO').size().sort_values()"
   ]
  },
  {
   "cell_type": "code",
   "execution_count": null,
   "metadata": {},
   "outputs": [],
   "source": []
  },
  {
   "cell_type": "code",
   "execution_count": null,
   "metadata": {},
   "outputs": [],
   "source": []
  },
  {
   "cell_type": "code",
   "execution_count": null,
   "metadata": {},
   "outputs": [],
   "source": []
  },
  {
   "cell_type": "code",
   "execution_count": null,
   "metadata": {},
   "outputs": [],
   "source": []
  }
 ],
 "metadata": {
  "kernelspec": {
   "display_name": "Python 3",
   "language": "python",
   "name": "python3"
  },
  "language_info": {
   "codemirror_mode": {
    "name": "ipython",
    "version": 3
   },
   "file_extension": ".py",
   "mimetype": "text/x-python",
   "name": "python",
   "nbconvert_exporter": "python",
   "pygments_lexer": "ipython3",
   "version": "3.7.9"
  }
 },
 "nbformat": 4,
 "nbformat_minor": 4
}
